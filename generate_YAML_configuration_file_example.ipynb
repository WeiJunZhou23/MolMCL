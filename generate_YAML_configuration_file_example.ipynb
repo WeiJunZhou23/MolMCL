{
 "cells": [
  {
   "cell_type": "code",
   "execution_count": null,
   "id": "e5a95d7d-9aad-441b-86ff-0d3e44922716",
   "metadata": {},
   "outputs": [],
   "source": [
    "import yaml"
   ]
  },
  {
   "cell_type": "code",
   "execution_count": null,
   "id": "22977077-8bc5-4619-9d46-62fb524db85e",
   "metadata": {},
   "outputs": [],
   "source": [
    "def generate_yaml_config(batch_size=32, num_runs=3, save_dir=\"./your/path\", \n",
    "                         pretrain_lr=0.0005, finetune_lr=0.0001, data_dir=\"./your/data/path\", \n",
    "                         data_name=\"###\", split_type=\"random\",\n",
    "                         train_path=None,\n",
    "                         val_path=None,\n",
    "                         test_path=None,\n",
    "                         task_type=\"regression\",\n",
    "                         loss_func=\"MAE\", # there are more loss functions (MAE/RMSE/MSE)\n",
    "                         checkpoint=\"./checkpoint/zinc-gps_best.pt\", # download the pre-trained model from the MolMCL github\n",
    "                         output_path=None):\n",
    "    config = {\n",
    "        \"batch_size\": batch_size,\n",
    "        \"epochs\": 100,\n",
    "        \"device\": \"cuda\",\n",
    "        \"seed\": 42, \n",
    "        \"num_run\": num_runs,\n",
    "        \"verbose\": True,\n",
    "        \"split_seed\": 0,\n",
    "        \"save_dir\": save_dir,\n",
    "        \"model\": {\n",
    "            \"backbone\": \"gps\",\n",
    "            \"num_layer\": 5,\n",
    "            \"emb_dim\": 300,\n",
    "            \"heads\": 6,\n",
    "            \"layernorm\": True,\n",
    "            \"dropout_ratio\": 0,\n",
    "            \"attn_dropout_ratio\": 0.3,\n",
    "            \"temperature\": 0.5,\n",
    "            \"use_prompt\": True,\n",
    "            \"normalize\": False,\n",
    "            \"checkpoint\": checkpoint\n",
    "        },\n",
    "        \"optim\": {\n",
    "            \"prompt_lr\": 0.0005,\n",
    "            \"pretrain_lr\": pretrain_lr,\n",
    "            \"finetune_lr\": finetune_lr,\n",
    "            \"decay\": 1e-6,\n",
    "            \"gradient_clip\": 5,\n",
    "            \"scheduler\": \"cos_anneal\"\n",
    "        },\n",
    "        \"prompt_optim\": {\n",
    "            \"skip_bo\": True,\n",
    "            \"inits\": [0.0000, 0.0000, 0.0000]\n",
    "        },\n",
    "        \"dataset\": {\n",
    "            \"data_dir\": data_dir,\n",
    "            \"data_name\": data_name,\n",
    "            \"split_type\": split_type,\n",
    "            \"custom_train_path\": train_path,\n",
    "            \"custom_val_path\": val_path,\n",
    "            \"custom_test_path\": test_path,\n",
    "            \"num_workers\": 0,\n",
    "            \"feat_type\": \"super_rich\",\n",
    "            \"task\": task_type,\n",
    "            \"loss_func\": loss_func\n",
    "        }\n",
    "    }\n",
    "    \n",
    "    with open(output_path, \"w\") as file:\n",
    "        yaml.dump(config, file, default_flow_style=False, sort_keys=False)\n",
    "    \n",
    "    print(f\"YAML configuration file saved to {output_path}\")"
   ]
  },
  {
   "cell_type": "code",
   "execution_count": null,
   "id": "ab2761c6-1f5b-4c05-b196-e869d3453429",
   "metadata": {},
   "outputs": [],
   "source": [
    "# Generate the YAML file\n",
    "# generate_yaml_config(save_dir=\"path/save/model\", # path to save the models\n",
    "#                      num_runs=5, # numbers of independent models\n",
    "#                      batch_size=256, \n",
    "#                      data_name='data',\n",
    "#                      split_type='customized', # random/customized/scaffold\n",
    "#                      train_path='your/train_path', # csv format\n",
    "#                      val_path='your/val_path', # csv format\n",
    "#                      test_path='your/test_path', # csv format\n",
    "#                      output_path='path/to/save/config') # path to save the configuration file"
   ]
  }
 ],
 "metadata": {
  "kernelspec": {
   "display_name": "Python 3 (ipykernel)",
   "language": "python",
   "name": "python3"
  },
  "language_info": {
   "codemirror_mode": {
    "name": "ipython",
    "version": 3
   },
   "file_extension": ".py",
   "mimetype": "text/x-python",
   "name": "python",
   "nbconvert_exporter": "python",
   "pygments_lexer": "ipython3",
   "version": "3.11.7"
  }
 },
 "nbformat": 4,
 "nbformat_minor": 5
}
