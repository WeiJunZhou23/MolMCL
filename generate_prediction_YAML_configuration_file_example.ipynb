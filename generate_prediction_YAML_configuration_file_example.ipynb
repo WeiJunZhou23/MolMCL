{
 "cells": [
  {
   "cell_type": "code",
   "execution_count": 1,
   "id": "e5a95d7d-9aad-441b-86ff-0d3e44922716",
   "metadata": {},
   "outputs": [],
   "source": [
    "import yaml"
   ]
  },
  {
   "cell_type": "code",
   "execution_count": 2,
   "id": "22977077-8bc5-4619-9d46-62fb524db85e",
   "metadata": {},
   "outputs": [],
   "source": [
    "def generate_yaml_config(batch_size=128, save_dir=None,\n",
    "                         data_paths=None,\n",
    "                         checkpoint=None,\n",
    "                         output_path=None):\n",
    "    config = {\n",
    "        \"batch_size\": batch_size,\n",
    "        \"device\": \"cuda\",\n",
    "        \"save_dir\": save_dir,\n",
    "        \"model\": {\n",
    "            \"backbone\": \"gps\",\n",
    "            \"num_layer\": 5,\n",
    "            \"emb_dim\": 300,\n",
    "            \"heads\": 6,\n",
    "            \"layernorm\": True,\n",
    "            \"dropout_ratio\": 0,\n",
    "            \"attn_dropout_ratio\": 0.3,\n",
    "            \"temperature\": 0.5,\n",
    "            \"use_prompt\": True,\n",
    "            \"normalize\": False,\n",
    "            \"checkpoint\": checkpoint\n",
    "        },\n",
    "        \"dataset\": {\n",
    "            \"data_paths\": data_paths,\n",
    "            \"feat_type\": \"super_rich\",\n",
    "        }\n",
    "    }\n",
    "    \n",
    "    with open(output_path, \"w\") as file:\n",
    "        yaml.dump(config, file, default_flow_style=False, sort_keys=False)\n",
    "    \n",
    "    print(f\"YAML configuration file saved to {output_path}\")"
   ]
  },
  {
   "cell_type": "code",
   "execution_count": 3,
   "id": "ab2761c6-1f5b-4c05-b196-e869d3453429",
   "metadata": {},
   "outputs": [],
   "source": [
    "# Generate the YAML file\n",
    "# generate_yaml_config(save_dir=\"output/path\",\n",
    "#                               data_paths=['data/path'], #input path, could be list\n",
    "#                               checkpoint='model/path',\n",
    "#                               output_path='path/save/yaml/file')"
   ]
  },
  {
   "cell_type": "code",
   "execution_count": 6,
   "id": "f63bf85f-2ad3-4675-a411-1edede0c61e2",
   "metadata": {},
   "outputs": [
    {
     "name": "stdout",
     "output_type": "stream",
     "text": [
      "YAML configuration file saved to ./dumped/test_bace/prediction.yaml\n"
     ]
    }
   ],
   "source": [
    "# Generate the YAML file\n",
    "generate_yaml_config(save_dir=\"./dumped/test_bace/\",\n",
    "                              data_paths=['./data/finetune/bace_test.csv'], #input path, could be list\n",
    "                              checkpoint='./dumped/test_bace/model_0.pt',\n",
    "                              output_path='./dumped/test_bace/prediction.yaml')"
   ]
  },
  {
   "cell_type": "code",
   "execution_count": null,
   "id": "335232dd-0218-459b-9b6d-15e25255cddd",
   "metadata": {},
   "outputs": [],
   "source": []
  }
 ],
 "metadata": {
  "kernelspec": {
   "display_name": "LAB",
   "language": "python",
   "name": "lab"
  },
  "language_info": {
   "codemirror_mode": {
    "name": "ipython",
    "version": 3
   },
   "file_extension": ".py",
   "mimetype": "text/x-python",
   "name": "python",
   "nbconvert_exporter": "python",
   "pygments_lexer": "ipython3",
   "version": "3.10.15"
  }
 },
 "nbformat": 4,
 "nbformat_minor": 5
}
